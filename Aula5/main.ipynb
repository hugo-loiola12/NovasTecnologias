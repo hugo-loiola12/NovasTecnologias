{
 "cells": [
  {
   "cell_type": "markdown",
   "id": "0a48ae74",
   "metadata": {},
   "source": [
    "\n",
    "## Pedra, Papel e Tesoura em Python"
   ]
  },
  {
   "cell_type": "code",
   "execution_count": 2,
   "id": "16884d13",
   "metadata": {},
   "outputs": [
    {
     "name": "stdout",
     "output_type": "stream",
     "text": [
      "Você escolheu pedra\n",
      "A máquina escolheu papel\n"
     ]
    },
    {
     "data": {
      "text/plain": [
       "'Máquina Vencedora!'"
      ]
     },
     "execution_count": 2,
     "metadata": {},
     "output_type": "execute_result"
    }
   ],
   "source": [
    "%reset -f\n",
    "import random\n",
    "\n",
    "def pegar_esolha_usuario():\n",
    "    esolha_usuario = input(\"Escolha pedra, papel ou tesoura: \").lower()\n",
    "    while esolha_usuario not in [\"pedra\", \"papel\", \"tesoura\"]:\n",
    "        esolha_usuario = input(\"Escolha inválida. Por favor, escolha pedra, papel ou tesoura: \").lower()\n",
    "    return esolha_usuario\n",
    "\n",
    "def pegar_escolha_cpu():\n",
    "    escolhas = [\"pedra\", \"papel\", \"tesoura\"]\n",
    "    return random.choice(escolhas)\n",
    "\n",
    "def vencedor(esolha_usuario, escolha_cpu):\n",
    "    if esolha_usuario == escolha_cpu:\n",
    "        return \"Empate!\"\n",
    "    elif (esolha_usuario == \"pedra\" and escolha_cpu == \"tesoura\") or \\\n",
    "         (esolha_usuario == \"papel\" and escolha_cpu == \"pedra\") or \\\n",
    "         (esolha_usuario == \"tesoura\" and escolha_cpu == \"papel\"):\n",
    "        return \"Humano Vencedor!\"\n",
    "    else:\n",
    "        return \"Máquina Vencedora!\"\n",
    "\n",
    "\n",
    "escolha_usuario = pegar_esolha_usuario()\n",
    "print(f\"Você escolheu {escolha_usuario}\")\n",
    "escolha_cpu = pegar_escolha_cpu()\n",
    "print(f\"A máquina escolheu {escolha_cpu}\")\n",
    "vencedor(escolha_usuario, escolha_cpu)\n",
    "\n"
   ]
  },
  {
   "cell_type": "markdown",
   "id": "5713ad37",
   "metadata": {},
   "source": [
    "## Classes"
   ]
  },
  {
   "cell_type": "code",
   "execution_count": 2,
   "id": "2e80847d",
   "metadata": {},
   "outputs": [
    {
     "name": "stdout",
     "output_type": "stream",
     "text": [
      "Nome: Hugo, Idade:21\n"
     ]
    }
   ],
   "source": [
    "%reset -f\n",
    "\n",
    "class Pessoa:\n",
    "    nome = \"\"\n",
    "    idade = 0\n",
    "\n",
    "    def getInfo(self):\n",
    "        print(f\"Nome: {self.nome}, Idade: {self.idade}\")\n",
    "\n",
    "p = Pessoa()\n",
    "p.nome = \"Hugo\"\n",
    "p.idade = 21\n",
    "\n",
    "p.getInfo()\n",
    "\n",
    "\n",
    "    \n"
   ]
  }
 ],
 "metadata": {
  "kernelspec": {
   "display_name": "Python 3",
   "language": "python",
   "name": "python3"
  },
  "language_info": {
   "codemirror_mode": {
    "name": "ipython",
    "version": 3
   },
   "file_extension": ".py",
   "mimetype": "text/x-python",
   "name": "python",
   "nbconvert_exporter": "python",
   "pygments_lexer": "ipython3",
   "version": "3.13.0"
  }
 },
 "nbformat": 4,
 "nbformat_minor": 5
}
