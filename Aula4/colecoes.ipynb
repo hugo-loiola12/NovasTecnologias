{
 "cells": [
  {
   "cell_type": "code",
   "metadata": {
    "ExecuteTime": {
     "end_time": "2025-03-25T16:03:44.201030Z",
     "start_time": "2025-03-25T16:03:44.194017Z"
    }
   },
   "source": [
    "my_list = [1, 2, 3, 4, 5]  # Mutável\n",
    "\n",
    "print(my_list[-1])\n",
    "print(my_list[-2])\n",
    "print(my_list[-3])\n",
    "\n",
    "print(my_list[1])\n",
    "print(my_list[2])\n",
    "print(my_list[3])\n",
    "\n",
    "print(my_list[0:3])\n",
    "print(my_list[1:4])"
   ],
   "outputs": [
    {
     "name": "stdout",
     "output_type": "stream",
     "text": [
      "5\n",
      "4\n",
      "3\n",
      "2\n",
      "3\n",
      "4\n",
      "[1, 2, 3]\n",
      "[2, 3, 4]\n"
     ]
    }
   ],
   "execution_count": 1
  },
  {
   "cell_type": "code",
   "metadata": {
    "ExecuteTime": {
     "end_time": "2025-03-25T16:03:47.017174Z",
     "start_time": "2025-03-25T16:03:47.009003Z"
    }
   },
   "source": [
    "my_list.append(6)  # Adicionar um elemento ao final da lista\n",
    "print(my_list)\n",
    "\n",
    "my_list.insert(0, 0)  # Adiciona um elemento em uma posição específica\n",
    "print(my_list)\n",
    "\n",
    "my_list.remove(1)  # Remove o elemento\n",
    "print(my_list)\n",
    "\n",
    "my_list.reverse()  # Reverte a lista\n",
    "print(my_list)\n",
    "\n",
    "my_list.sort()  # Ordenar a lista\n",
    "print(my_list)\n",
    "\n",
    "my_list.extend([9, 10, 11])  # Extender a lista com outra lista\n",
    "print(my_list)\n",
    "\n",
    "print(my_list.index(3))  # Index de um elemento\n",
    "\n",
    "my_list.clear()  # Limpa a lista\n",
    "print(my_list)"
   ],
   "outputs": [
    {
     "name": "stdout",
     "output_type": "stream",
     "text": [
      "[1, 2, 3, 4, 5, 6]\n",
      "[0, 1, 2, 3, 4, 5, 6]\n",
      "[0, 2, 3, 4, 5, 6]\n",
      "[6, 5, 4, 3, 2, 0]\n",
      "[0, 2, 3, 4, 5, 6]\n",
      "[0, 2, 3, 4, 5, 6, 9, 10, 11]\n",
      "2\n",
      "[]\n"
     ]
    }
   ],
   "execution_count": 2
  },
  {
   "cell_type": "code",
   "metadata": {
    "ExecuteTime": {
     "end_time": "2025-03-25T16:03:50.734266Z",
     "start_time": "2025-03-25T16:03:50.628239Z"
    }
   },
   "source": [
    "%reset -f \n",
    "my_tuple = (1, 2, 3, 4, 5)  # Imutável\n",
    "\n",
    "print(my_tuple.index(1))\n",
    "\n",
    "print(my_tuple.count(1))\n",
    "\n",
    "\n",
    "\n"
   ],
   "outputs": [
    {
     "name": "stdout",
     "output_type": "stream",
     "text": [
      "0\n",
      "1\n"
     ]
    }
   ],
   "execution_count": 3
  },
  {
   "cell_type": "code",
   "metadata": {
    "ExecuteTime": {
     "end_time": "2025-03-25T16:03:53.165065Z",
     "start_time": "2025-03-25T16:03:53.065421Z"
    }
   },
   "source": [
    "%reset -f\n",
    "\n",
    "my_dict = {\"name\": \"John\", \"age\": 30, \"city\": \"New York\"}\n",
    "\n",
    "print(my_dict[\"name\"])  # Pegar um valor\n",
    "print(my_dict.get(\"age\"))  # Pegar um valor\n",
    "print(my_dict.keys())  # Todas as chaves\n",
    "print(my_dict.values())  # Todos os valores\n",
    "print(my_dict.items())  # Tudo em pares de chave:valor\n",
    "my_dict[\"age\"] = 31  # Alterar o valor de \"age\"\n",
    "my_dict[\"country\"] = \"USA\"  # Adicionar uma chave com um valor\n",
    "print(my_dict)\n",
    "print(my_dict.pop(\"city\"))  # Remove e retorna o valor\n",
    "print(my_dict)\n",
    "print(my_dict.clear())  # Limpa o dicionário"
   ],
   "outputs": [
    {
     "name": "stdout",
     "output_type": "stream",
     "text": [
      "John\n",
      "30\n",
      "dict_keys(['name', 'age', 'city'])\n",
      "dict_values(['John', 30, 'New York'])\n",
      "dict_items([('name', 'John'), ('age', 30), ('city', 'New York')])\n",
      "{'name': 'John', 'age': 31, 'city': 'New York', 'country': 'USA'}\n",
      "New York\n",
      "{'name': 'John', 'age': 31, 'country': 'USA'}\n",
      "None\n"
     ]
    }
   ],
   "execution_count": 4
  },
  {
   "cell_type": "code",
   "metadata": {
    "ExecuteTime": {
     "end_time": "2025-03-25T16:03:56.078610Z",
     "start_time": "2025-03-25T16:03:55.972326Z"
    }
   },
   "source": [
    "%reset -f\n",
    "\n",
    "def soma(a, b):\n",
    "    return a + b\n",
    "\n",
    "\n",
    "print(soma(1, 2))"
   ],
   "outputs": [
    {
     "name": "stdout",
     "output_type": "stream",
     "text": [
      "3\n"
     ]
    }
   ],
   "execution_count": 5
  }
 ],
 "metadata": {
  "kernelspec": {
   "display_name": "Python 3",
   "language": "python",
   "name": "python3"
  },
  "language_info": {
   "codemirror_mode": {
    "name": "ipython",
    "version": 3
   },
   "file_extension": ".py",
   "mimetype": "text/x-python",
   "name": "python",
   "nbconvert_exporter": "python",
   "pygments_lexer": "ipython3",
   "version": "3.13.0"
  }
 },
 "nbformat": 4,
 "nbformat_minor": 2
}
