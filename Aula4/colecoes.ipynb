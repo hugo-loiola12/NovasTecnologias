{
 "cells": [
  {
   "cell_type": "code",
   "execution_count": 42,
   "metadata": {},
   "outputs": [
    {
     "name": "stdout",
     "output_type": "stream",
     "text": [
      "5\n",
      "4\n",
      "3\n",
      "2\n",
      "3\n",
      "4\n",
      "[1, 2, 3]\n",
      "[2, 3, 4]\n"
     ]
    }
   ],
   "source": [
    "my_list = [1, 2, 3, 4, 5]\n",
    "\n",
    "print(my_list[-1])\n",
    "print(my_list[-2])\n",
    "print(my_list[-3])\n",
    "print(my_list[1])\n",
    "print(my_list[2])\n",
    "print(my_list[3])\n",
    "\n",
    "print(my_list[0:3])\n",
    "print(my_list[1:4])"
   ]
  },
  {
   "cell_type": "code",
   "execution_count": 43,
   "metadata": {},
   "outputs": [
    {
     "name": "stdout",
     "output_type": "stream",
     "text": [
      "[1, 2, 3, 4, 5, 6]\n",
      "[0, 1, 2, 3, 4, 5, 6]\n",
      "[0, 2, 3, 4, 5, 6]\n",
      "[6, 5, 4, 3, 2, 0]\n",
      "[0, 2, 3, 4, 5, 6]\n",
      "[0, 2, 3, 4, 5, 6, 9, 10, 11]\n",
      "2\n",
      "[]\n"
     ]
    }
   ],
   "source": [
    "my_list.append(6) # Adicionar um elemento ao final da lista\n",
    "print(my_list)\n",
    "\n",
    "my_list.insert(0, 0) # Adiciona um elemento em uma posição específica\n",
    "print(my_list)\n",
    "\n",
    "my_list.remove(1) # Remove o elemento \n",
    "print(my_list)\n",
    "\n",
    "my_list.reverse() # Reverte a lista\n",
    "print(my_list)\n",
    "\n",
    "my_list.sort() # Ordenar a lista\n",
    "print(my_list)\n",
    "\n",
    "my_list.extend([9,10,11]) # Extender a lista com outra lista\n",
    "print(my_list)\n",
    "\n",
    "print(my_list.index(3)) # Index de um elemento\n",
    "\n",
    "my_list.clear() # Limpa a lista\n",
    "print(my_list)"
   ]
  }
 ],
 "metadata": {
  "kernelspec": {
   "display_name": "Python 3",
   "language": "python",
   "name": "python3"
  },
  "language_info": {
   "codemirror_mode": {
    "name": "ipython",
    "version": 3
   },
   "file_extension": ".py",
   "mimetype": "text/x-python",
   "name": "python",
   "nbconvert_exporter": "python",
   "pygments_lexer": "ipython3",
   "version": "3.13.0"
  }
 },
 "nbformat": 4,
 "nbformat_minor": 2
}
