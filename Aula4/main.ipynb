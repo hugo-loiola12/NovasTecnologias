{
 "cells": [
  {
   "cell_type": "markdown",
   "metadata": {},
   "source": [
    "Escreva um programa que pergutna ao usuário tres valores booleanos e determine se pelo menos dois deles são verdadeiros"
   ]
  },
  {
   "cell_type": "code",
   "execution_count": 5,
   "metadata": {},
   "outputs": [
    {
     "name": "stdout",
     "output_type": "stream",
     "text": [
      "Existem dois verdadeiros ou mais!\n"
     ]
    }
   ],
   "source": [
    "%reset -f \n",
    "\n",
    "n1 = input('O céu é azul? (s/n): ').lower().strip() == 's'\n",
    "n2 = input('A terra é plana? (s/n): ').lower().strip() == 's'\n",
    "n3 = input('1 + 1 = 2? (s/n): ').lower().strip() == 's'\n",
    "\n",
    "array = [n1, n2 , n3]\n",
    "true = []\n",
    "\n",
    "for n in array:\n",
    "    if n == True:\n",
    "        true.append(n)\n",
    "\n",
    "if len(true) >= 2:\n",
    "    print(\"Existem dois verdadeiros ou mais!\")\n",
    "\n"
   ]
  },
  {
   "cell_type": "markdown",
   "metadata": {},
   "source": [
    "Crie um programa que peça ao usuário um número em imprima todos os números pares de 0 até esse número"
   ]
  },
  {
   "cell_type": "code",
   "execution_count": 10,
   "metadata": {},
   "outputs": [
    {
     "name": "stdout",
     "output_type": "stream",
     "text": [
      "0\n",
      "2\n",
      "4\n",
      "6\n",
      "8\n",
      "10\n"
     ]
    }
   ],
   "source": [
    "%reset -f\n",
    "numero = int(input(\"Verificar se é par: \"))\n",
    "\n",
    "for i in range(numero + 1):\n",
    "    if i % 2 == 0:\n",
    "        print(i) "
   ]
  },
  {
   "cell_type": "markdown",
   "metadata": {},
   "source": [
    "Escreva um programa que peça um número ao usuário e verifique se ele é primo"
   ]
  },
  {
   "cell_type": "code",
   "execution_count": 4,
   "metadata": {},
   "outputs": [
    {
     "name": "stdout",
     "output_type": "stream",
     "text": [
      "False\n"
     ]
    }
   ],
   "source": [
    "%reset -f \n",
    "\n",
    "import math\n",
    "\n",
    "\n",
    "numero = int(input(\"Verificar se é primo: \"))\n",
    "primo = True\n",
    "\n",
    "for i in range(2 , int(math.sqrt(numero)) + 1 ):\n",
    "    if numero % i == 0:\n",
    "        primo = False\n",
    "        break\n",
    "\n",
    "print(primo)"
   ]
  }
 ],
 "metadata": {
  "kernelspec": {
   "display_name": "Python 3",
   "language": "python",
   "name": "python3"
  },
  "language_info": {
   "codemirror_mode": {
    "name": "ipython",
    "version": 3
   },
   "file_extension": ".py",
   "mimetype": "text/x-python",
   "name": "python",
   "nbconvert_exporter": "python",
   "pygments_lexer": "ipython3",
   "version": "3.13.0"
  }
 },
 "nbformat": 4,
 "nbformat_minor": 2
}
