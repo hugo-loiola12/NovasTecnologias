{
 "cells": [
  {
   "cell_type": "markdown",
   "metadata": {},
   "source": [
    "Escreva um programa que pergutna ao usuário tres valores booleanos e determine se pelo menos dois deles são verdadeiros"
   ]
  },
  {
   "cell_type": "code",
   "metadata": {
    "ExecuteTime": {
     "end_time": "2025-03-25T16:04:12.568568Z",
     "start_time": "2025-03-25T16:04:05.127088Z"
    }
   },
   "source": [
    "%reset -f \n",
    "\n",
    "n1 = input('O céu é azul? (s/n): ').lower().strip() == 's'\n",
    "n2 = input('A terra é plana? (s/n): ').lower().strip() == 's'\n",
    "n3 = input('1 + 1 = 2? (s/n): ').lower().strip() == 's'\n",
    "\n",
    "array = [n1, n2, n3]\n",
    "true = []\n",
    "\n",
    "for n in array:\n",
    "    if n:\n",
    "        true.append(n)\n",
    "\n",
    "if len(true) >= 2:\n",
    "    print(\"Existem dois verdadeiros ou mais!\")\n",
    "\n"
   ],
   "outputs": [
    {
     "name": "stdout",
     "output_type": "stream",
     "text": [
      "Existem dois verdadeiros ou mais!\n"
     ]
    }
   ],
   "execution_count": 1
  },
  {
   "cell_type": "markdown",
   "metadata": {},
   "source": [
    "Crie um programa que peça ao usuário um número em imprima todos os números pares de 0 até esse número"
   ]
  },
  {
   "cell_type": "code",
   "metadata": {
    "ExecuteTime": {
     "end_time": "2025-03-25T16:04:22.302625Z",
     "start_time": "2025-03-25T16:04:18.348201Z"
    }
   },
   "source": [
    "%reset -f\n",
    "numero = int(input(\"Verificar se é par: \"))\n",
    "\n",
    "for i in range(numero + 1):\n",
    "    if i % 2 == 0:\n",
    "        print(i)"
   ],
   "outputs": [
    {
     "name": "stdout",
     "output_type": "stream",
     "text": [
      "0\n",
      "2\n",
      "4\n",
      "6\n",
      "8\n",
      "10\n",
      "12\n",
      "14\n",
      "16\n",
      "18\n",
      "20\n"
     ]
    }
   ],
   "execution_count": 2
  },
  {
   "cell_type": "markdown",
   "metadata": {},
   "source": [
    "Escreva um programa que peça um número ao usuário e verifique se ele é primo"
   ]
  },
  {
   "cell_type": "code",
   "metadata": {
    "ExecuteTime": {
     "end_time": "2025-03-25T16:04:41.857605Z",
     "start_time": "2025-03-25T16:04:38.139211Z"
    }
   },
   "source": [
    "%reset -f \n",
    "\n",
    "import math\n",
    "\n",
    "numero = int(input(\"Verificar se é primo: \"))\n",
    "primo = True\n",
    "\n",
    "for i in range(2, int(math.sqrt(numero)) + 1):\n",
    "    if numero % i == 0:\n",
    "        primo = False\n",
    "        break\n",
    "\n",
    "print(primo)"
   ],
   "outputs": [
    {
     "name": "stdout",
     "output_type": "stream",
     "text": [
      "False\n"
     ]
    }
   ],
   "execution_count": 3
  },
  {
   "cell_type": "markdown",
   "metadata": {},
   "source": [
    "Peça a um usuário dois números e calcule a raiz quadrada do primeiro e a potencia do primeiro elevado a segunda"
   ]
  },
  {
   "cell_type": "code",
   "execution_count": 13,
   "metadata": {},
   "outputs": [
    {
     "name": "stdout",
     "output_type": "stream",
     "text": [
      "Raiz quadrada de 9 é 3.0\n",
      " 9 elevado a 2 é 81.0\n"
     ]
    }
   ],
   "source": [
    "%reset -f\n",
    "import math\n",
    "\n",
    "numero_1 = int(input(\"Digite o primeiro número: \"))\n",
    "numero_2 = int(input(\"Digite o segundo número: \"))\n",
    "\n",
    "print(f\"Raiz quadrada de {numero_1} é {math.sqrt(numero_1)}\")\n",
    "print(f\" {numero_1} elevado a {numero_2} é {math.pow(numero_1, numero_2)}\")"
   ]
  },
  {
   "cell_type": "markdown",
   "metadata": {},
   "source": [
    "Solicite um número inteiro e calcule seu fatorial"
   ]
  },
  {
   "cell_type": "code",
   "execution_count": 14,
   "metadata": {},
   "outputs": [
    {
     "name": "stdout",
     "output_type": "stream",
     "text": [
      "O fatorial de 5 é 120\n"
     ]
    }
   ],
   "source": [
    "%reset -f\n",
    "import math\n",
    "\n",
    "numero = int(input(\"Digite um número: \"))\n",
    "print(f\"O fatorial de {numero} é {math.factorial(numero)}\")"
   ]
  }
 ],
 "metadata": {
  "kernelspec": {
   "display_name": "usr",
   "language": "python",
   "name": "python3"
  },
  "language_info": {
   "codemirror_mode": {
    "name": "ipython",
    "version": 3
   },
   "file_extension": ".py",
   "mimetype": "text/x-python",
   "name": "python",
   "nbconvert_exporter": "python",
   "pygments_lexer": "ipython3",
   "version": "3.13.2"
  }
 },
 "nbformat": 4,
 "nbformat_minor": 2
}
