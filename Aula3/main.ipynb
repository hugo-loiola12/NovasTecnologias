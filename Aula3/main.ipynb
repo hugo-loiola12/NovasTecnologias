{
 "cells": [
  {
   "cell_type": "code",
   "execution_count": null,
   "metadata": {},
   "outputs": [],
   "source": [
    "import math\n",
    "\n",
    "print(round(2.9))\n",
    "print(math.pi)\n",
    "print(abs(-2.9))\n",
    "print(pow(2,3))\n",
    "print(max(2,3))\n",
    "print(min(2,3))\n",
    "print(sum([1,2,3]))\n",
    "print(chr(65))\n",
    "print(ord(\"A\"))\n",
    "print(divmod(10,3))\n",
    "print(math.ceil(2.1))\n",
    "print(math.floor(2.9))"
   ]
  },
  {
   "cell_type": "code",
   "execution_count": null,
   "metadata": {},
   "outputs": [],
   "source": [
    "%reset -f\n",
    "\n",
    "x = input(\"Coloque um número\")\n",
    "print(type(x)) # <class 'str'>\n",
    "\n",
    "y = int(x)\n",
    "print(type(y)) # <class 'int'>"
   ]
  }
 ],
 "metadata": {
  "kernelspec": {
   "display_name": "Python 3",
   "language": "python",
   "name": "python3"
  },
  "language_info": {
   "codemirror_mode": {
    "name": "ipython",
    "version": 3
   },
   "file_extension": ".py",
   "mimetype": "text/x-python",
   "name": "python",
   "nbconvert_exporter": "python",
   "pygments_lexer": "ipython3",
   "version": "3.13.0"
  }
 },
 "nbformat": 4,
 "nbformat_minor": 2
}
