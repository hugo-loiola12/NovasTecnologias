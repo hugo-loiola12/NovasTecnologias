{
 "cells": [
  {
   "cell_type": "code",
   "execution_count": 12,
   "metadata": {},
   "outputs": [
    {
     "name": "stdout",
     "output_type": "stream",
     "text": [
      "3\n",
      "3.141592653589793\n",
      "2.9\n",
      "8\n",
      "3\n",
      "2\n",
      "6\n",
      "A\n",
      "65\n",
      "(3, 1)\n",
      "3\n",
      "2\n"
     ]
    }
   ],
   "source": [
    "import math\n",
    "\n",
    "print(round(2.9))\n",
    "print(math.pi)\n",
    "print(abs(-2.9))\n",
    "print(pow(2,3))\n",
    "print(max(2,3))\n",
    "print(min(2,3))\n",
    "print(sum([1,2,3]))\n",
    "print(chr(65))\n",
    "print(ord(\"A\"))\n",
    "print(divmod(10,3))\n",
    "print(math.ceil(2.1))\n",
    "print(math.floor(2.9))"
   ]
  },
  {
   "cell_type": "code",
   "execution_count": 11,
   "metadata": {},
   "outputs": [
    {
     "name": "stdout",
     "output_type": "stream",
     "text": [
      "<class 'str'> 40\n",
      "<class 'int'> 40\n",
      "<class 'float'> 40.0\n",
      "<class 'bool'> True\n"
     ]
    }
   ],
   "source": [
    "%reset -f\n",
    "\n",
    "x = input(\"Coloque um número\")\n",
    "print(type(x), x) # <class 'str'>\n",
    "\n",
    "y = int(x)\n",
    "print(type(y), y) # <class 'int'>\n",
    "\n",
    "z = float(x)\n",
    "print(type(z), z) # <class 'float'>\n",
    "\n",
    "a = bool(x)\n",
    "print(type(a), a) # <class 'bool'>"
   ]
  },
  {
   "cell_type": "code",
   "execution_count": 32,
   "metadata": {},
   "outputs": [
    {
     "name": "stdout",
     "output_type": "stream",
     "text": [
      "True\n",
      "True\n",
      "False\n",
      "False\n",
      "False\n",
      "True\n"
     ]
    }
   ],
   "source": [
    "%reset -f\n",
    "\n",
    "print(2 > 1)\n",
    "print(2 >= 1)\n",
    "print(2 < 1)\n",
    "print(2 <= 1)\n",
    "print(2 == 1)\n",
    "print(2 != 1)"
   ]
  },
  {
   "cell_type": "code",
   "execution_count": 1,
   "metadata": {},
   "outputs": [
    {
     "name": "stdout",
     "output_type": "stream",
     "text": [
      "Not today\n",
      "Right on\n"
     ]
    }
   ],
   "source": [
    "%reset -f\n",
    "\n",
    "meaning = 30\n",
    "\n",
    "if meaning < 10:\n",
    "    print(\"Right on\")\n",
    "else:\n",
    "    print(\"Not today\")\n",
    "\n",
    "print(\"Right on\") if meaning > 10 else print(\"Not today\")\n",
    "\n"
   ]
  }
 ],
 "metadata": {
  "kernelspec": {
   "display_name": "Python 3",
   "language": "python",
   "name": "python3"
  },
  "language_info": {
   "codemirror_mode": {
    "name": "ipython",
    "version": 3
   },
   "file_extension": ".py",
   "mimetype": "text/x-python",
   "name": "python",
   "nbconvert_exporter": "python",
   "pygments_lexer": "ipython3",
   "version": "3.13.0"
  }
 },
 "nbformat": 4,
 "nbformat_minor": 2
}
