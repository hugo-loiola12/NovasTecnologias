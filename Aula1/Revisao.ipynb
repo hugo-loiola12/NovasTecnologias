{
 "cells": [
  {
   "cell_type": "markdown",
   "metadata": {},
   "source": [
    "1.  Escreva um aplicativo que insere um número consistindo em cinco dígitos do usuário, separa o número em seus dígitos individuais e imprime os dígitos separados uns dos outros por três espaços cada. Por exemplo, se o usuário digitar o número 42339, o programa deve imprimir: 4 2 3 3 9."
   ]
  },
  {
   "cell_type": "code",
   "metadata": {
    "ExecuteTime": {
     "end_time": "2025-02-19T19:08:20.981783Z",
     "start_time": "2025-02-19T19:08:12.769381Z"
    }
   },
   "source": [
    "lista = []\n",
    "\n",
    "for i in range(5):\n",
    "    numeros = int(input(\"Coloque 5 números: \"))\n",
    "    lista.append(numeros)\n",
    "\n",
    "for i in lista:\n",
    "    print(i, end=\" \")"
   ],
   "outputs": [
    {
     "name": "stdout",
     "output_type": "stream",
     "text": [
      "4 2 3 3 9 "
     ]
    }
   ],
   "execution_count": 1
  },
  {
   "cell_type": "markdown",
   "metadata": {},
   "source": [
    "2. O quadrado de um número natural n é dado pela soma dos n primeiros números ímpares consecutivos. Por exemplo \n",
    "$$1^2 = 1, 2^2 = 1 + 3, 3^2 = 1 + 3 + 5 $$ \n",
    "Dado um número n, calcule seu quadrado usando a soma de ímpares ao invés de produto"
   ]
  },
  {
   "cell_type": "code",
   "metadata": {
    "ExecuteTime": {
     "end_time": "2025-02-19T19:08:24.114189Z",
     "start_time": "2025-02-19T19:08:21.064871Z"
    }
   },
   "source": [
    "%reset\n",
    "\n",
    "receba = int(input(\"Coloque um número: \"))\n",
    "lista = []\n",
    "\n",
    "for i in range(receba * 2):\n",
    "    if i % 2 != 0:\n",
    "        lista.append(i)\n",
    "\n",
    "print(sum(lista))"
   ],
   "outputs": [
    {
     "name": "stdout",
     "output_type": "stream",
     "text": [
      "Nothing done.\n",
      "2025\n"
     ]
    }
   ],
   "execution_count": 2
  },
  {
   "cell_type": "markdown",
   "metadata": {},
   "source": [
    "3. Defina uma função recursiva para calcular a soma de dois naturais usando\n",
    "as funções suc(n) e pred(n) que devolvem, respectivamente, o sucessor e o\n",
    "predecessor de um natural n."
   ]
  },
  {
   "cell_type": "code",
   "metadata": {
    "ExecuteTime": {
     "end_time": "2025-02-19T19:08:25.375910Z",
     "start_time": "2025-02-19T19:08:24.253964Z"
    }
   },
   "source": [
    "%reset\n",
    "\n",
    "def suc(n):\n",
    "    return n + 1\n",
    "\n",
    "\n",
    "def pred(n):\n",
    "    return n - 1\n",
    "\n",
    "\n",
    "def soma(a, b):\n",
    "    if b == 0:\n",
    "        return a\n",
    "    else:\n",
    "        return soma(suc(a), pred(b))\n",
    "\n",
    "\n",
    "print(soma(5, 3))"
   ],
   "outputs": [
    {
     "name": "stdout",
     "output_type": "stream",
     "text": [
      "Nothing done.\n",
      "8\n"
     ]
    }
   ],
   "execution_count": 3
  },
  {
   "metadata": {},
   "cell_type": "markdown",
   "source": [
    "4. Implemente uma função recursiva para resolver o problema da Torre de Hanói. O problema consiste em mover todos os discos de uma torre para a outra usando uma torre auxiliar, respeitando a regra do problema.\n",
    "- **Entrada:** O número de discos.\n",
    "- **Saída:** A sequência de movimentos necessários para resolver o problema.\n",
    "\n",
    "\n",
    "**Dica:** Mova `n-1` discos para a torre auxiliar, depois mova `o maior` disco para a torre destino, e por fim, mova os `n-1` discos da torre auxiliar para a torre destino."
   ]
  },
  {
   "metadata": {
    "ExecuteTime": {
     "end_time": "2025-02-19T19:08:27.420072Z",
     "start_time": "2025-02-19T19:08:25.431614Z"
    }
   },
   "cell_type": "code",
   "source": [
    "%reset\n",
    "\n",
    "def hanoi(n, origem, auxiliar, destino):\n",
    "    if n == 1:\n",
    "        print(f\"Mover de {origem} para {destino}\")\n",
    "        return\n",
    "    hanoi(n - 1, origem, destino, auxiliar)\n",
    "    print(f\"Mover de {origem} para {destino}\")\n",
    "    hanoi(n - 1, auxiliar, origem, destino)\n",
    "\n",
    "\n",
    "# Entrada e execução\n",
    "n = int(input(\"Número de discos: \"))\n",
    "hanoi(n, 'A', 'B', 'C')"
   ],
   "outputs": [
    {
     "name": "stdout",
     "output_type": "stream",
     "text": [
      "Mover de A para C\n",
      "Mover de A para B\n",
      "Mover de C para B\n",
      "Mover de A para C\n",
      "Mover de B para A\n",
      "Mover de B para C\n",
      "Mover de A para C\n",
      "Mover de A para B\n",
      "Mover de C para B\n",
      "Mover de C para A\n",
      "Mover de B para A\n",
      "Mover de C para B\n",
      "Mover de A para C\n",
      "Mover de A para B\n",
      "Mover de C para B\n",
      "Mover de A para C\n",
      "Mover de B para A\n",
      "Mover de B para C\n",
      "Mover de A para C\n",
      "Mover de B para A\n",
      "Mover de C para B\n",
      "Mover de C para A\n",
      "Mover de B para A\n",
      "Mover de B para C\n",
      "Mover de A para C\n",
      "Mover de A para B\n",
      "Mover de C para B\n",
      "Mover de A para C\n",
      "Mover de B para A\n",
      "Mover de B para C\n",
      "Mover de A para C\n",
      "Mover de A para B\n",
      "Mover de C para B\n",
      "Mover de C para A\n",
      "Mover de B para A\n",
      "Mover de C para B\n",
      "Mover de A para C\n",
      "Mover de A para B\n",
      "Mover de C para B\n",
      "Mover de C para A\n",
      "Mover de B para A\n",
      "Mover de B para C\n",
      "Mover de A para C\n",
      "Mover de B para A\n",
      "Mover de C para B\n",
      "Mover de C para A\n",
      "Mover de B para A\n",
      "Mover de C para B\n",
      "Mover de A para C\n",
      "Mover de A para B\n",
      "Mover de C para B\n",
      "Mover de A para C\n",
      "Mover de B para A\n",
      "Mover de B para C\n",
      "Mover de A para C\n",
      "Mover de A para B\n",
      "Mover de C para B\n",
      "Mover de C para A\n",
      "Mover de B para A\n",
      "Mover de C para B\n",
      "Mover de A para C\n",
      "Mover de A para B\n",
      "Mover de C para B\n",
      "Mover de A para C\n",
      "Mover de B para A\n",
      "Mover de B para C\n",
      "Mover de A para C\n",
      "Mover de B para A\n",
      "Mover de C para B\n",
      "Mover de C para A\n",
      "Mover de B para A\n",
      "Mover de B para C\n",
      "Mover de A para C\n",
      "Mover de A para B\n",
      "Mover de C para B\n",
      "Mover de A para C\n",
      "Mover de B para A\n",
      "Mover de B para C\n",
      "Mover de A para C\n",
      "Mover de B para A\n",
      "Mover de C para B\n",
      "Mover de C para A\n",
      "Mover de B para A\n",
      "Mover de C para B\n",
      "Mover de A para C\n",
      "Mover de A para B\n",
      "Mover de C para B\n",
      "Mover de C para A\n",
      "Mover de B para A\n",
      "Mover de B para C\n",
      "Mover de A para C\n",
      "Mover de B para A\n",
      "Mover de C para B\n",
      "Mover de C para A\n",
      "Mover de B para A\n",
      "Mover de B para C\n",
      "Mover de A para C\n",
      "Mover de A para B\n",
      "Mover de C para B\n",
      "Mover de A para C\n",
      "Mover de B para A\n",
      "Mover de B para C\n",
      "Mover de A para C\n",
      "Mover de A para B\n",
      "Mover de C para B\n",
      "Mover de C para A\n",
      "Mover de B para A\n",
      "Mover de C para B\n",
      "Mover de A para C\n",
      "Mover de A para B\n",
      "Mover de C para B\n",
      "Mover de A para C\n",
      "Mover de B para A\n",
      "Mover de B para C\n",
      "Mover de A para C\n",
      "Mover de B para A\n",
      "Mover de C para B\n",
      "Mover de C para A\n",
      "Mover de B para A\n",
      "Mover de B para C\n",
      "Mover de A para C\n",
      "Mover de A para B\n",
      "Mover de C para B\n",
      "Mover de A para C\n",
      "Mover de B para A\n",
      "Mover de B para C\n",
      "Mover de A para C\n"
     ]
    }
   ],
   "execution_count": 4
  }
 ],
 "metadata": {
  "kernelspec": {
   "display_name": "Python 3 (ipykernel)",
   "language": "python",
   "name": "python3"
  },
  "language_info": {
   "codemirror_mode": {
    "name": "ipython",
    "version": 3
   },
   "file_extension": ".py",
   "mimetype": "text/x-python",
   "name": "python",
   "nbconvert_exporter": "python",
   "pygments_lexer": "ipython3",
   "version": "3.13.2"
  }
 },
 "nbformat": 4,
 "nbformat_minor": 4
}
