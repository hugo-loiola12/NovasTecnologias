{
 "cells": [
  {
   "cell_type": "code",
   "execution_count": 11,
   "metadata": {},
   "outputs": [
    {
     "name": "stdout",
     "output_type": "stream",
     "text": [
      "17\n",
      "P\n",
      "g\n",
      "Pyt\n",
      "hon Programing\n"
     ]
    }
   ],
   "source": [
    "%reset -f\n",
    "course_name = \"Python Programing\"\n",
    "\n",
    "print(len(course_name)) # len(): retorna o tamanho da string\n",
    "print(course_name[0]) # []: acessa o caractere na posição 0\n",
    "print(course_name[-1]) # []: acessa o caractere na posição -1\n",
    "print(course_name[0:3]) # [:] acessa um intervalo de caracteres > 3\n",
    "print(course_name[3:]) # [:] acessa um intervalo de caracteres <= 3"
   ]
  },
  {
   "cell_type": "code",
   "execution_count": 7,
   "metadata": {},
   "outputs": [
    {
     "name": "stdout",
     "output_type": "stream",
     "text": [
      "Hugo Queiroz\n",
      "Hugo Queiroz\n"
     ]
    }
   ],
   "source": [
    "%reset -f\n",
    "# Concatenar Strings\n",
    "first = \"Hugo\"\n",
    "last = \"Queiroz\"\n",
    "full_name = first + \" \" + last\n",
    "print(full_name)\n",
    "\n",
    "full_name= f\"{first} {last}\"\n",
    "print(full_name)\n"
   ]
  },
  {
   "cell_type": "code",
   "execution_count": 14,
   "metadata": {},
   "outputs": [
    {
     "name": "stdout",
     "output_type": "stream",
     "text": [
      "PYTHON PROGRAMING\n",
      "Python Programing\n",
      "PYTHON PROGRAMING\n"
     ]
    }
   ],
   "source": [
    "%reset -f\n",
    "\n",
    "course= \"Python Programing\"\n",
    "# Tempo de Execução\n",
    "print(course.upper())\n",
    "print(course)\n",
    "# Modificado Permenantemente\n",
    "modified_str = course.upper()\n",
    "print(modified_str)\n",
    "\n",
    "# Outras\n",
    "\n",
    "print(course.capitalize())\n",
    "print(course.lower())\n",
    "print(course.strip())\n",
    "print(course.find(\"P\"))\n",
    "print(print.replace())\n"
   ]
  },
  {
   "cell_type": "code",
   "execution_count": null,
   "metadata": {},
   "outputs": [],
   "source": [
    "%reset -f"
   ]
  }
 ],
 "metadata": {
  "kernelspec": {
   "display_name": "Python 3",
   "language": "python",
   "name": "python3"
  },
  "language_info": {
   "codemirror_mode": {
    "name": "ipython",
    "version": 3
   },
   "file_extension": ".py",
   "mimetype": "text/x-python",
   "name": "python",
   "nbconvert_exporter": "python",
   "pygments_lexer": "ipython3",
   "version": "3.13.0"
  }
 },
 "nbformat": 4,
 "nbformat_minor": 2
}
