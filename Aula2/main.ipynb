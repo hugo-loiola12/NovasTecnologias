{
 "cells": [
  {
   "cell_type": "code",
   "execution_count": 4,
   "metadata": {},
   "outputs": [
    {
     "name": "stdout",
     "output_type": "stream",
     "text": [
      "17\n",
      "P\n",
      "g\n",
      "Pyt\n"
     ]
    }
   ],
   "source": [
    "%reset -f\n",
    "course_name = \"Python Programing\"\n",
    "\n",
    "print(len(course_name)) # len(): retorna o tamanho da string\n",
    "print(course_name[0]) # []: acessa o caractere na posição 0\n",
    "print(course_name[-1]) # []: acessa o caractere na posição -1\n",
    "print(course_name[0:3]) # [:] acessa um intervalo de caracteres <3"
   ]
  },
  {
   "cell_type": "code",
   "execution_count": 5,
   "metadata": {},
   "outputs": [],
   "source": [
    "%reset -f"
   ]
  }
 ],
 "metadata": {
  "kernelspec": {
   "display_name": "Python 3",
   "language": "python",
   "name": "python3"
  },
  "language_info": {
   "codemirror_mode": {
    "name": "ipython",
    "version": 3
   },
   "file_extension": ".py",
   "mimetype": "text/x-python",
   "name": "python",
   "nbconvert_exporter": "python",
   "pygments_lexer": "ipython3",
   "version": "3.13.0"
  }
 },
 "nbformat": 4,
 "nbformat_minor": 2
}
